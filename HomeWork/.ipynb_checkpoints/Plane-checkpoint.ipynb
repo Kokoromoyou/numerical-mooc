{
 "metadata": {
  "name": "",
  "signature": "sha256:3d88e5589feca393e6cca440177a3ba1bc2b52e947bc2fc429b07395acc43c2c"
 },
 "nbformat": 3,
 "nbformat_minor": 0,
 "worksheets": [
  {
   "cells": [
    {
     "cell_type": "code",
     "collapsed": false,
     "input": [
      "from math import sin, cos, log, ceil, pi\n",
      "import numpy\n",
      "import matplotlib.pyplot as plt\n",
      "%matplotlib inline\n",
      "from matplotlib import rcParams\n",
      "rcParams['font.family'] = 'serif'\n",
      "rcParams['font.size'] = 16"
     ],
     "language": "python",
     "metadata": {},
     "outputs": []
    },
    {
     "cell_type": "code",
     "collapsed": false,
     "input": [
      "#\u041f\u0430\u0440\u0430\u043c\u0435\u0442\u0440\u044b \u0431\u0443\u043c\u0430\u0436\u043d\u043e\u0433\u043e \u0441\u0430\u043c\u043e\u043b\u0435\u0442\u0438\u043a\u0430:\n",
      "g = 9.8     \n",
      "v_t = 4.9     \n",
      "C_D = 1/5\n",
      "C_L = 1.0   \n",
      "#\u041d\u0430\u0447\u0430\u043b\u044c\u043d\u044b\u0435 \u0443\u0441\u043b\u043e\u0432\u0438\u044f\n",
      "v0 = v_t     \n",
      "theta0 = 0.0 \n",
      "x0 = 0.0  \n",
      "y0 = 1.5  \n",
      "VMAX = 10.5\n",
      "thetaMAX = pi/3\n",
      "dv0 = 0.5\n",
      "dt0 = 0.035\n",
      "NV0 = int(VMAX/dv0) + 1 \n",
      "NT0 = int(thetaMAX/dt0 ) + 1 \n"
     ],
     "language": "python",
     "metadata": {},
     "outputs": []
    },
    {
     "cell_type": "code",
     "collapsed": false,
     "input": [
      "def f(u):\n",
      "    \"\"\"Returns the right-hand side of the phugoid system of equations.\n",
      "    \n",
      "    Parameters\n",
      "    ----------\n",
      "    u : array of float\n",
      "        array containing the solution at time n.\n",
      "        \n",
      "    Returns\n",
      "    -------\n",
      "    dudt : array of float\n",
      "        array containing the RHS given u.\n",
      "    \"\"\"\n",
      "    \n",
      "    v = u[0]\n",
      "    theta = u[1]\n",
      "    x = u[2]\n",
      "    y = u[3]\n",
      "    return numpy.array([-g*sin(theta) - C_D/C_L*g/v_t**2*v**2,\n",
      "                      -g*cos(theta)/v + g/v_t**2*v,\n",
      "                      v*cos(theta),\n",
      "                      v*sin(theta)])"
     ],
     "language": "python",
     "metadata": {},
     "outputs": [],
     "prompt_number": 38
    },
    {
     "cell_type": "code",
     "collapsed": false,
     "input": [
      "def euler_step(u, f, dt):\n",
      "    \"\"\"Returns the solution at the next time-step using Euler's method.\n",
      "    \n",
      "    Parameters\n",
      "    ----------\n",
      "    u : array of float\n",
      "        solution at the previous time-step.\n",
      "    f : function\n",
      "        function to compute the right hand-side of the system of equation.\n",
      "    dt : float\n",
      "        time-increment.\n",
      "    \n",
      "    Returns\n",
      "    -------\n",
      "    u_n_plus_1 : array of float\n",
      "        approximate solution at the next time step.\n",
      "    \"\"\"\n",
      "    \n",
      "    return u + dt * f(u)"
     ],
     "language": "python",
     "metadata": {},
     "outputs": [],
     "prompt_number": 39
    },
    {
     "cell_type": "code",
     "collapsed": false,
     "input": [
      "def time_loop(u0,dt):\n",
      "    u = numpy.zeros((1, 4))\n",
      "    u[0] = u0 # fill 1st element with initial values\n",
      "    # time loop - Euler method\n",
      "    T = 0                               # final time\n",
      "    \n",
      "    y=u0[3]\n",
      "    n=0\n",
      "    while y >0:\n",
      "    \n",
      "        \n",
      "        u = numpy.append(u,[euler_step(u[n], f, dt)],axis = 0)\n",
      "        y = u[n+1,3]\n",
      "        n=n+1\n",
      "        T+=dt\n",
      "    \n",
      "    return u,T"
     ],
     "language": "python",
     "metadata": {},
     "outputs": [],
     "prompt_number": 40
    },
    {
     "cell_type": "code",
     "collapsed": false,
     "input": [
      "initial_values = numpy.array([[i,j] \n",
      "for i in numpy.linspace(0.5,VMAX,NV0) \n",
      "for j in numpy.linspace(0,thetaMAX,NT0)])"
     ],
     "language": "python",
     "metadata": {},
     "outputs": [],
     "prompt_number": 41
    },
    {
     "cell_type": "code",
     "collapsed": false,
     "input": [
      "diffgrid = numpy.empty_like(initial_values,dtype=numpy.ndarray)\n",
      "for i,v0_theta0 in enumerate(initial_values):\n",
      "v0,theta0 = v0_theta0\n",
      "dt = 0.001    \n",
      "u,T = time_loop(numpy.array([v0, theta0, x0, y0]),dt)\n",
      "diffgrid[i]= [v0_theta0, u[:,2][-1]]"
     ],
     "language": "python",
     "metadata": {},
     "outputs": [
      {
       "ename": "IndentationError",
       "evalue": "expected an indented block (<ipython-input-42-116e4d564e2b>, line 3)",
       "output_type": "pyerr",
       "traceback": [
        "\u001b[1;36m  File \u001b[1;32m\"<ipython-input-42-116e4d564e2b>\"\u001b[1;36m, line \u001b[1;32m3\u001b[0m\n\u001b[1;33m    v0,theta0 = v0_theta0\u001b[0m\n\u001b[1;37m     ^\u001b[0m\n\u001b[1;31mIndentationError\u001b[0m\u001b[1;31m:\u001b[0m expected an indented block\n"
       ]
      }
     ],
     "prompt_number": 42
    },
    {
     "cell_type": "code",
     "collapsed": false,
     "input": [
      "MAX_Trajectory = diffgrid[:,1].argmax() v0,theta0 = diffgrid[MAX_Trajectory][0]\n",
      "print \"\u041c\u0430\u043a\u0441\u0438\u043c\u0430\u043b\u044c\u043d\u0430\u044f \u0434\u043b\u0438\u043d\u0430(\u0442\u0440\u0430\u0435\u043a\u0442\u043e\u0440\u0438\u044f) \u043f\u043e\u043b\u0435\u0442\u0430 %.2f. \\\n",
      "\u041d\u0430\u0447\u0430\u043b\u044c\u043d\u044b\u0435 \u0443\u0441\u043b\u043e\u0432\u0438\u044f: V0 = %.2f, t0 = %.2f\" % (v0,theta0,diffgrid[MAX_Trajectory][1])"
     ],
     "language": "python",
     "metadata": {},
     "outputs": []
    },
    {
     "cell_type": "code",
     "collapsed": false,
     "input": [
      "dt = 0.001    \n",
      "u,T = time_loop(numpy.array([v0, theta0, x0, y0]),dt)\n",
      "x = u[:,2]\n",
      "y = u[:,3]\n",
      "v = u[:,0]"
     ],
     "language": "python",
     "metadata": {},
     "outputs": []
    },
    {
     "cell_type": "code",
     "collapsed": false,
     "input": [
      "#\u041e\u0442\u0440\u0438\u0441\u043e\u0432\u043a\u0430 \u043f\u043e\u043b\u0435\u0442\u0430\n",
      "plt.figure(figsize=(8,6))\n",
      "plt.grid(True)\n",
      "plt.xlabel(r'x', fontsize=18)\n",
      "plt.ylabel(r'y', fontsize=18)\n",
      "plt.title('Glider trajectory, flight time = %.2f , distance = %.2f' % (T,max(x)), fontsize=18)\n",
      "plt.plot(x,y, 'k-', lw=2);"
     ],
     "language": "python",
     "metadata": {},
     "outputs": []
    }
   ],
   "metadata": {}
  }
 ]
}