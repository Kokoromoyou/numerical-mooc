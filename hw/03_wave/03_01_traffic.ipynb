{
 "metadata": {
  "name": "",
  "signature": "sha256:8e0855ea574dc0333be98b2d58193721a60a34b79802a2a9fc871c6b6b976ff0"
 },
 "nbformat": 3,
 "nbformat_minor": 0,
 "worksheets": [
  {
   "cells": [
    {
     "cell_type": "heading",
     "level": 1,
     "metadata": {},
     "source": [
      "\u0421\u0430\u043c\u043e\u0441\u0442\u043e\u044f\u0442\u0435\u043b\u044c\u043d\u0430\u044f \u0440\u0430\u0431\u043e\u0442\u0430 \u043a \u041c\u043e\u0434\u0443\u043b\u044e 3 \"\u041d\u0430 \u0433\u0440\u0435\u0431\u043d\u0435 \u0432\u043e\u043b\u043d\u044b\""
     ]
    },
    {
     "cell_type": "heading",
     "level": 2,
     "metadata": {},
     "source": [
      "\u041c\u043e\u0434\u0435\u043b\u044c \u0434\u043e\u0440\u043e\u0436\u043d\u043e\u0433\u043e \u0434\u0432\u0438\u0436\u0435\u043d\u0438\u044f (traffic flow)"
     ]
    },
    {
     "cell_type": "markdown",
     "metadata": {},
     "source": [
      "$/rho$ -- \u043f\u043b\u043e\u0442\u043d\u043e\u0441\u0442\u044c \u043f\u043e\u0442\u043e\u043a\u0430 \u043c\u0430\u0448\u0438\u043d\n",
      "\n",
      "$u$ -- \u0441\u043a\u043e\u0440\u043e\u0441\u0442\u044c \u043f\u043e\u0442\u043e\u043a\u0430\n",
      "\n",
      "\u041b\u0438\u043d\u0435\u0439\u043d\u0430\u044f \u043c\u043e\u0434\u0435\u043b\u044c \u043f\u043e\u0432\u0435\u0434\u0435\u043d\u0438\u044f \u043d\u0430 \u0434\u043e\u0440\u043e\u0433\u0435:\n",
      "\n",
      "\\begin{equation}u(\\rho) = u_{\\rm max}\\left(1-\\frac{\\rho}{\\rho_{\\rm max}}\\right)\n",
      "\\end{equation}\n",
      "\n",
      "\u041b\u0438\u043d\u0435\u0439\u043d\u0430\u044f \u043c\u043e\u0434\u0435\u043b\u044c \u0443\u0434\u043e\u0432\u043b\u0435\u0442\u0432\u043e\u0440\u044f\u0435\u0442 \u044d\u043a\u0441\u043f\u0435\u0440\u0438\u043c\u0435\u043d\u0442\u0430\u043b\u044c\u043d\u044b\u043c \u043d\u0430\u0431\u043b\u044e\u0434\u0435\u043d\u0438\u044f\u043c:\n",
      "1. \u041d\u0430 \u043f\u0443\u0441\u0442\u043e\u0439 \u0434\u043e\u0440\u043e\u0433\u0435 ($\\rho \\rightarrow 0$) \u0432\u0441\u0435 \u0435\u0434\u0443\u0442 \u0441 \u043c\u0430\u043a\u0441\u0438\u043c\u0430\u043b\u044c\u043d\u043e\u0439 \u0441\u043a\u043e\u0440\u043e\u0441\u0442\u044c\u044e $u_{\\rm max}$\n",
      "2. \u0415\u0441\u043b\u0438 \u0434\u043e\u0440\u043e\u0433\u0430 \u0437\u0430\u0431\u0438\u0442\u0430 ($\\rho \\rightarrow \\rho_{\\rm max}$), \u0441\u043a\u043e\u0440\u043e\u0441\u0442\u044c \u0441\u0442\u0440\u0435\u043c\u0438\u0442\u0441\u044f \u043a \u043d\u0443\u043b\u044e.\n",
      "\n",
      "\u0414\u043b\u044f \u043f\u043e\u0442\u043e\u043a\u0430 \u043c\u0430\u0448\u0438\u043d \u043c\u043e\u0436\u043d\u043e \u0437\u0430\u043f\u0438\u0441\u0430\u0442\u044c \u0443\u0440\u0430\u0432\u043d\u0435\u043d\u0438\u0435 \u0437\u0430\u043a\u043e\u043d\u0430 \u0441\u043e\u0445\u0440\u0430\u043d\u0435\u043d\u0438\u044f:\n",
      "\n",
      "\\begin{equation}\\frac{\\partial \\rho}{\\partial x}+\\frac{\\partial F}{\\partial x} = 0, \\end{equation}\n",
      "\n",
      "\u0433\u0434\u0435 \n",
      "\n",
      "\\begin{equation}F=\\rho u = \\rho u_{\\rm max}\\left(1-\\frac{\\rho}{\\rho_{\\rm max}}\\right)\\end{equation}"
     ]
    },
    {
     "cell_type": "heading",
     "level": 2,
     "metadata": {},
     "source": [
      "\u0417\u0435\u043b\u0435\u043d\u044b\u0439 \u0441\u0432\u0435\u0442"
     ]
    },
    {
     "cell_type": "markdown",
     "metadata": {},
     "source": [
      "\u0420\u0430\u0441\u0441\u043c\u043e\u0442\u0440\u0438\u043c \u0443\u0447\u0430\u0441\u0442\u043e\u043a \u0434\u043e\u0440\u043e\u0433\u0438 \u0434\u043b\u0438\u043d\u043e\u0439 4 \u0441 \u043e\u0433\u0440\u0430\u043d\u0438\u0447\u0435\u043d\u0438\u0435\u043c \u0441\u043a\u043e\u0440\u043e\u0441\u0442\u0438 $u_{max}=1$, \u043f\u0440\u0438\u0447\u0435\u043c \u043d\u0430 \u0435\u0434\u0438\u043d\u0438\u0447\u043d\u043e\u043c \u0443\u0447\u0430\u0441\u0442\u043a\u0435 \u0434\u043e\u0440\u043e\u0433\u0438 \u0443\u043c\u0435\u0449\u0430\u0435\u0442\u0441\u044f 10 \u043c\u0430\u0448\u0438\u043d ($\\rho_{\\rm max} = 10$). \u041f\u0440\u0435\u0434\u043f\u043e\u043b\u043e\u0436\u0438\u043c, \u0447\u0442\u043e \u043f\u0435\u0440\u0435\u043a\u0440\u0435\u0441\u0442\u043e\u043a \u0440\u0430\u0441\u043f\u043e\u043b\u043e\u0436\u0435\u043d \u0432 \u0442\u043e\u0447\u043a\u0435 $x = 2$. \u041f\u0435\u0440\u0435\u0434 \u0441\u0432\u0435\u0442\u043e\u0444\u043e\u0440\u043e\u043c \u043f\u0440\u043e\u0431\u043a\u0430, \u0430 \u0432 \u043d\u0430\u0447\u0430\u043b\u0435 \u0434\u043e\u0440\u043e\u0433\u0438 \u0434\u0432\u0438\u0436\u0435\u043d\u0438\u0435 \u0441\u0432\u043e\u0431\u043e\u0434\u043d\u043e\u0435. \u041f\u043e\u0441\u043b\u0435 \u0441\u0432\u0435\u0442\u043e\u0444\u043e\u0440\u0430 \u0434\u043e\u0440\u043e\u0433\u0430 \u043f\u0443\u0441\u0442\u0430\u044f.\n",
      "\n",
      "\\begin{equation}\\rho(x,0) = \\left\\{ \\begin{array}{cc}\n",
      "\\rho_{\\rm max}\\frac{x}{2} & 0 \\leq x < 2  \\\\\n",
      "0 & 2 \\leq x \\leq 4 \\\\ \\end{array} \\right.\\end{equation}"
     ]
    },
    {
     "cell_type": "code",
     "collapsed": false,
     "input": [
      "%matplotlib inline\n",
      "import numpy \n",
      "import matplotlib.pyplot as plt\n",
      "from matplotlib import rcParams\n",
      "rcParams['font.family'] = 'serif'\n",
      "rcParams['font.size'] = 16"
     ],
     "language": "python",
     "metadata": {},
     "outputs": [],
     "prompt_number": 1
    },
    {
     "cell_type": "code",
     "collapsed": false,
     "input": [
      "def rho_green_light(nx, rho_max, rho_light): #\u043d\u0430\u0447\u0430\u043b\u044c\u043d\u043e\u0435 \u0443\u0441\u043b\u043e\u0432\u0438\u0435 \"\u043f\u0440\u043e\u0431\u043a\u0430 \u043f\u0435\u0440\u0435\u0434 \u0441\u0432\u0435\u0442\u043e\u0444\u043e\u0440\u043e\u043c \u043d\u0430 \u0437\u0435\u043b\u0435\u043d\u044b\u0439\"\n",
      "    \"\"\"Computes \"green light\" initial condition with shock, and linear distribution behind\n",
      "    \n",
      "    Parameters\n",
      "    ----------\n",
      "    nx        : int\n",
      "        Number of grid points in x\n",
      "    rho_max   : float\n",
      "        Maximum allowed car density\n",
      "    rho_light : float\n",
      "        Density of cars at stoplight\n",
      "\n",
      "    Returns\n",
      "    -------\n",
      "    rho: array of floats\n",
      "        Array with initial values of density\n",
      "    \"\"\"    \n",
      "    rho = numpy.arange(nx)*2./nx*rho_light  # Before stoplight\n",
      "    rho[(nx-1)/2:] = 0\n",
      "    \n",
      "    return rho"
     ],
     "language": "python",
     "metadata": {},
     "outputs": [],
     "prompt_number": 2
    },
    {
     "cell_type": "code",
     "collapsed": false,
     "input": [
      "#Basic initial condition parameters\n",
      "#defining grid size, time steps\n",
      "nx = 81\n",
      "nt = 30\n",
      "dx = 4.0/(nx-1)\n",
      "\n",
      "\n",
      "x = numpy.linspace(0,4,nx)\n",
      "\n",
      "rho_max = 10.\n",
      "u_max = 1.\n",
      "rho_light = 10.\n",
      "\n",
      "rho = rho_green_light(nx, rho_max, rho_light)"
     ],
     "language": "python",
     "metadata": {},
     "outputs": [],
     "prompt_number": 3
    },
    {
     "cell_type": "code",
     "collapsed": false,
     "input": [
      "plt.plot(x, rho, color='#003366', ls='-', lw=3)\n",
      "plt.ylabel('Traffic density')\n",
      "plt.xlabel('Distance')\n",
      "plt.ylim(-0.5,11.);"
     ],
     "language": "python",
     "metadata": {},
     "outputs": [
      {
       "metadata": {},
       "output_type": "display_data",
       "png": "[encoded data removed]",
       "text": [
        "<matplotlib.figure.Figure at 0xb6380e8c>"
       ]
      }
     ],
     "prompt_number": 4
    },
    {
     "cell_type": "code",
     "collapsed": false,
     "input": [],
     "language": "python",
     "metadata": {},
     "outputs": []
    }
   ],
   "metadata": {}
  }
 ]
}